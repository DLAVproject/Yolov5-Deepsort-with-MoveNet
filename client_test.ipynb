{
 "cells": [
  {
   "cell_type": "code",
   "execution_count": 1,
   "id": "5a460fb7",
   "metadata": {},
   "outputs": [],
   "source": [
    "import socket\n",
    "import sys\n",
    "import numpy\n",
    "import struct\n",
    "import binascii\n",
    "\n",
    "from PIL import Image\n",
    "from detector import Detector\n",
    "import argparse\n",
    "import cv2\n",
    "import numpy as np\n",
    "\n",
    "import time"
   ]
  },
  {
   "cell_type": "code",
   "execution_count": 2,
   "id": "80b63c5b",
   "metadata": {},
   "outputs": [
    {
     "name": "stderr",
     "output_type": "stream",
     "text": [
      "Using cache found in /Users/juliarichter/.cache/torch/hub/ultralytics_yolov5_master\n",
      "YOLOv5 🚀 2022-4-27 torch 1.10.0 CPU\n",
      "\n",
      "Fusing layers... \n",
      "YOLOv5s_v6 summary: 213 layers, 7225885 parameters, 0 gradients\n",
      "Adding AutoShape... \n"
     ]
    }
   ],
   "source": [
    "#parser = argparse.ArgumentParser(\n",
    "#    formatter_class=argparse.ArgumentDefaultsHelpFormatter,\n",
    "#)\n",
    "\n",
    "#parser.add_argument('-d', '--downscale', default=8, type=int,\n",
    "#                    help=('downscale of the received image'))\n",
    "\n",
    "#args = parser.parse_args()\n",
    "\n",
    "# image data\n",
    "#downscale = args.downscale\n",
    "downscale = 4\n",
    "width = int(640/downscale)\n",
    "height = int(480/downscale)\n",
    "channels = 3\n",
    "sz_image = width*height*channels\n",
    "\n",
    "\n",
    "# Set up detector\n",
    "detector = Detector()\n",
    "\n",
    "#Image Receiver\n",
    "net_recvd_length = 0\n",
    "recvd_image = b''\n",
    "\n",
    "#Test Controller\n",
    "direction = -1\n",
    "cnt = 0\n",
    "\n",
    "try:\n",
    "    cap = cv2.VideoCapture(0)\n",
    "except:\n",
    "    print(\"webcam/video could not be loaded\")\n",
    "\n",
    "while True:\n",
    "    return_value, frame = cap.read()\n",
    "\n",
    "    if return_value:\n",
    "        frame = cv2.cvtColor(frame, cv2.COLOR_BGR2RGB)\n",
    "\n",
    "        #frame = cv2.resize(frame, (width, height), interpolation = cv2.INTER_AREA)\n",
    "\n",
    "        #cv2.waitKey(1)\n",
    "        net_recvd_length = 0\n",
    "        recvd_image = b''\n",
    "\n",
    "        #######################\n",
    "        # Detect\n",
    "        #######################\n",
    "        bbox, bbox_label = detector.forward(frame)\n",
    "\n",
    "        #if bbox_label:\n",
    "            #print(\"BBOX: {}\".format(bbox))\n",
    "            #print(\"BBOX_label: {}\".format(bbox_label))\n",
    "        #else:\n",
    "        #    print(\"False\")\n",
    "\n",
    "        # https://pymotw.com/3/socket/binary.html\n",
    "        values = (bbox[0], bbox[1], 10, 10, float(bbox_label[0]))\n",
    "        \n",
    "        if bbox_label[0]:\n",
    "            cv2.rectangle(frame, (int(bbox[0])-5, int(bbox[1])-5), (int(bbox[0])+5, int(bbox[1])+5), (0,255,0), 2)\n",
    "        else:\n",
    "            cv2.rectangle(frame, (int(bbox[0])-5, int(bbox[1])-5), (int(bbox[0])+5, int(bbox[1])+5), (255,0,0), 2)\n",
    "\n",
    "        result = cv2.cvtColor(frame, cv2.COLOR_RGB2BGR) \n",
    "    \n",
    "        cv2.imshow('YoloV5 + Deep Sort', result)\n",
    "\n",
    "        if cv2.waitKey(10) & 0xFF==ord('q'):\n",
    "            break"
   ]
  },
  {
   "cell_type": "code",
   "execution_count": 3,
   "id": "8244e2aa",
   "metadata": {},
   "outputs": [],
   "source": [
    "cv2.destroyAllWindows()\n",
    "cap.release()"
   ]
  },
  {
   "cell_type": "code",
   "execution_count": null,
   "id": "073886f4",
   "metadata": {},
   "outputs": [],
   "source": []
  }
 ],
 "metadata": {
  "interpreter": {
   "hash": "bac35b1da89963a84e831f1e7ac9d5013744a77e967380d6e4824954f258b8e9"
  },
  "kernelspec": {
   "display_name": "Python 3 (ipykernel)",
   "language": "python",
   "name": "python3"
  },
  "language_info": {
   "codemirror_mode": {
    "name": "ipython",
    "version": 3
   },
   "file_extension": ".py",
   "mimetype": "text/x-python",
   "name": "python",
   "nbconvert_exporter": "python",
   "pygments_lexer": "ipython3",
   "version": "3.9.13"
  }
 },
 "nbformat": 4,
 "nbformat_minor": 5
}
